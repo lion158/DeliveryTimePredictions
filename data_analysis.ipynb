{
 "cells": [
  {
   "cell_type": "code",
   "execution_count": 15,
   "metadata": {},
   "outputs": [],
   "source": [
    "import mysql.connector\n",
    "import pandas as pd"
   ]
  },
  {
   "cell_type": "markdown",
   "metadata": {},
   "source": [
    "Connecting to database"
   ]
  },
  {
   "cell_type": "code",
   "execution_count": 5,
   "metadata": {},
   "outputs": [],
   "source": [
    "mydb = mysql.connector.connect(\n",
    "  host=\"localhost\",\n",
    "  user=\"root\",\n",
    "  password=\"my-secret-pw\",\n",
    "  database=\"droptime\"\n",
    ")"
   ]
  },
  {
   "cell_type": "code",
   "execution_count": 6,
   "metadata": {},
   "outputs": [],
   "source": [
    "mycursor = mydb.cursor()"
   ]
  },
  {
   "cell_type": "markdown",
   "metadata": {},
   "source": [
    "quering"
   ]
  },
  {
   "cell_type": "code",
   "execution_count": 24,
   "metadata": {},
   "outputs": [
    {
     "name": "stderr",
     "output_type": "stream",
     "text": [
      "/tmp/ipykernel_122979/81233910.py:6: UserWarning: pandas only supports SQLAlchemy connectable (engine/connection) or database string URI or sqlite3 DBAPI2 connection. Other DBAPI2 objects are not tested. Please consider using SQLAlchemy.\n",
      "  df = pd.read_sql(query, mydb)\n"
     ]
    }
   ],
   "source": [
    "query = \"\"\"\n",
    "SELECT *, TIMESTAMPDIFF(SECOND, segment_start_time, segment_end_time) AS time_diff_in_seconds \n",
    "FROM route_segments\n",
    "ORDER BY driver_id, segment_id DESC, segment_end_time ASC\n",
    "\"\"\"\n",
    "df = pd.read_sql(query, mydb)"
   ]
  },
  {
   "cell_type": "code",
   "execution_count": 25,
   "metadata": {},
   "outputs": [
    {
     "data": {
      "text/html": [
       "<div>\n",
       "<style scoped>\n",
       "    .dataframe tbody tr th:only-of-type {\n",
       "        vertical-align: middle;\n",
       "    }\n",
       "\n",
       "    .dataframe tbody tr th {\n",
       "        vertical-align: top;\n",
       "    }\n",
       "\n",
       "    .dataframe thead th {\n",
       "        text-align: right;\n",
       "    }\n",
       "</style>\n",
       "<table border=\"1\" class=\"dataframe\">\n",
       "  <thead>\n",
       "    <tr style=\"text-align: right;\">\n",
       "      <th></th>\n",
       "      <th>segment_id</th>\n",
       "      <th>driver_id</th>\n",
       "      <th>segment_type</th>\n",
       "      <th>order_id</th>\n",
       "      <th>segment_start_time</th>\n",
       "      <th>segment_end_time</th>\n",
       "      <th>time_diff_in_seconds</th>\n",
       "    </tr>\n",
       "  </thead>\n",
       "  <tbody>\n",
       "    <tr>\n",
       "      <th>0</th>\n",
       "      <td>4973</td>\n",
       "      <td>1</td>\n",
       "      <td>DRIVE</td>\n",
       "      <td>NaN</td>\n",
       "      <td>2024-02-18 18:22:33</td>\n",
       "      <td>2024-02-18 18:28:46</td>\n",
       "      <td>373</td>\n",
       "    </tr>\n",
       "    <tr>\n",
       "      <th>1</th>\n",
       "      <td>4972</td>\n",
       "      <td>1</td>\n",
       "      <td>STOP</td>\n",
       "      <td>1950.0</td>\n",
       "      <td>2024-02-18 18:31:46</td>\n",
       "      <td>2024-02-18 18:32:46</td>\n",
       "      <td>60</td>\n",
       "    </tr>\n",
       "    <tr>\n",
       "      <th>2</th>\n",
       "      <td>4949</td>\n",
       "      <td>1</td>\n",
       "      <td>STOP</td>\n",
       "      <td>NaN</td>\n",
       "      <td>2024-02-01 05:07:48</td>\n",
       "      <td>2024-02-01 05:19:08</td>\n",
       "      <td>680</td>\n",
       "    </tr>\n",
       "    <tr>\n",
       "      <th>3</th>\n",
       "      <td>4948</td>\n",
       "      <td>1</td>\n",
       "      <td>DRIVE</td>\n",
       "      <td>NaN</td>\n",
       "      <td>2024-02-01 05:15:22</td>\n",
       "      <td>2024-02-01 05:24:53</td>\n",
       "      <td>571</td>\n",
       "    </tr>\n",
       "    <tr>\n",
       "      <th>4</th>\n",
       "      <td>4947</td>\n",
       "      <td>1</td>\n",
       "      <td>STOP</td>\n",
       "      <td>2080.0</td>\n",
       "      <td>2024-02-01 05:27:53</td>\n",
       "      <td>2024-02-01 05:29:03</td>\n",
       "      <td>70</td>\n",
       "    </tr>\n",
       "  </tbody>\n",
       "</table>\n",
       "</div>"
      ],
      "text/plain": [
       "   segment_id  driver_id segment_type  order_id  segment_start_time  \\\n",
       "0        4973          1        DRIVE       NaN 2024-02-18 18:22:33   \n",
       "1        4972          1         STOP    1950.0 2024-02-18 18:31:46   \n",
       "2        4949          1         STOP       NaN 2024-02-01 05:07:48   \n",
       "3        4948          1        DRIVE       NaN 2024-02-01 05:15:22   \n",
       "4        4947          1         STOP    2080.0 2024-02-01 05:27:53   \n",
       "\n",
       "     segment_end_time  time_diff_in_seconds  \n",
       "0 2024-02-18 18:28:46                   373  \n",
       "1 2024-02-18 18:32:46                    60  \n",
       "2 2024-02-01 05:19:08                   680  \n",
       "3 2024-02-01 05:24:53                   571  \n",
       "4 2024-02-01 05:29:03                    70  "
      ]
     },
     "execution_count": 25,
     "metadata": {},
     "output_type": "execute_result"
    }
   ],
   "source": [
    "df.head()"
   ]
  },
  {
   "cell_type": "code",
   "execution_count": null,
   "metadata": {},
   "outputs": [],
   "source": []
  }
 ],
 "metadata": {
  "kernelspec": {
   "display_name": "base",
   "language": "python",
   "name": "python3"
  },
  "language_info": {
   "codemirror_mode": {
    "name": "ipython",
    "version": 3
   },
   "file_extension": ".py",
   "mimetype": "text/x-python",
   "name": "python",
   "nbconvert_exporter": "python",
   "pygments_lexer": "ipython3",
   "version": "3.11.5"
  }
 },
 "nbformat": 4,
 "nbformat_minor": 2
}
