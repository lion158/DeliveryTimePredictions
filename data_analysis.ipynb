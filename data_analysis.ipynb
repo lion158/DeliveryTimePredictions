{
 "cells": [
  {
   "cell_type": "code",
   "execution_count": 1,
   "metadata": {},
   "outputs": [],
   "source": [
    "import mysql.connector\n",
    "import pandas as pd"
   ]
  },
  {
   "cell_type": "markdown",
   "metadata": {},
   "source": [
    "Connecting to database"
   ]
  },
  {
   "cell_type": "code",
   "execution_count": 2,
   "metadata": {},
   "outputs": [],
   "source": [
    "mydb = mysql.connector.connect(\n",
    "  host=\"localhost\",\n",
    "  user=\"root\",\n",
    "  password=\"my-secret-pw\",\n",
    "  database=\"droptime\"\n",
    ")"
   ]
  },
  {
   "cell_type": "code",
   "execution_count": 3,
   "metadata": {},
   "outputs": [],
   "source": [
    "mycursor = mydb.cursor()"
   ]
  },
  {
   "cell_type": "markdown",
   "metadata": {},
   "source": [
    "quering"
   ]
  },
  {
   "cell_type": "code",
   "execution_count": 37,
   "metadata": {},
   "outputs": [
    {
     "name": "stderr",
     "output_type": "stream",
     "text": [
      "/tmp/ipykernel_166287/81233910.py:6: UserWarning: pandas only supports SQLAlchemy connectable (engine/connection) or database string URI or sqlite3 DBAPI2 connection. Other DBAPI2 objects are not tested. Please consider using SQLAlchemy.\n",
      "  df = pd.read_sql(query, mydb)\n"
     ]
    }
   ],
   "source": [
    "query = \"\"\"\n",
    "SELECT *, TIMESTAMPDIFF(SECOND, segment_start_time, segment_end_time) AS time_diff_in_seconds \n",
    "FROM route_segments\n",
    "ORDER BY driver_id, segment_id DESC, segment_end_time ASC\n",
    "\"\"\"\n",
    "df = pd.read_sql(query, mydb)"
   ]
  },
  {
   "cell_type": "code",
   "execution_count": 38,
   "metadata": {},
   "outputs": [
    {
     "data": {
      "text/html": [
       "<div>\n",
       "<style scoped>\n",
       "    .dataframe tbody tr th:only-of-type {\n",
       "        vertical-align: middle;\n",
       "    }\n",
       "\n",
       "    .dataframe tbody tr th {\n",
       "        vertical-align: top;\n",
       "    }\n",
       "\n",
       "    .dataframe thead th {\n",
       "        text-align: right;\n",
       "    }\n",
       "</style>\n",
       "<table border=\"1\" class=\"dataframe\">\n",
       "  <thead>\n",
       "    <tr style=\"text-align: right;\">\n",
       "      <th></th>\n",
       "      <th>segment_id</th>\n",
       "      <th>driver_id</th>\n",
       "      <th>segment_type</th>\n",
       "      <th>order_id</th>\n",
       "      <th>segment_start_time</th>\n",
       "      <th>segment_end_time</th>\n",
       "      <th>time_diff_in_seconds</th>\n",
       "    </tr>\n",
       "  </thead>\n",
       "  <tbody>\n",
       "    <tr>\n",
       "      <th>0</th>\n",
       "      <td>4973</td>\n",
       "      <td>1</td>\n",
       "      <td>DRIVE</td>\n",
       "      <td>NaN</td>\n",
       "      <td>2024-02-18 18:22:33</td>\n",
       "      <td>2024-02-18 18:28:46</td>\n",
       "      <td>373</td>\n",
       "    </tr>\n",
       "    <tr>\n",
       "      <th>1</th>\n",
       "      <td>4972</td>\n",
       "      <td>1</td>\n",
       "      <td>STOP</td>\n",
       "      <td>1950.0</td>\n",
       "      <td>2024-02-18 18:31:46</td>\n",
       "      <td>2024-02-18 18:32:46</td>\n",
       "      <td>60</td>\n",
       "    </tr>\n",
       "    <tr>\n",
       "      <th>2</th>\n",
       "      <td>4949</td>\n",
       "      <td>1</td>\n",
       "      <td>STOP</td>\n",
       "      <td>NaN</td>\n",
       "      <td>2024-02-01 05:07:48</td>\n",
       "      <td>2024-02-01 05:19:08</td>\n",
       "      <td>680</td>\n",
       "    </tr>\n",
       "    <tr>\n",
       "      <th>3</th>\n",
       "      <td>4948</td>\n",
       "      <td>1</td>\n",
       "      <td>DRIVE</td>\n",
       "      <td>NaN</td>\n",
       "      <td>2024-02-01 05:15:22</td>\n",
       "      <td>2024-02-01 05:24:53</td>\n",
       "      <td>571</td>\n",
       "    </tr>\n",
       "    <tr>\n",
       "      <th>4</th>\n",
       "      <td>4947</td>\n",
       "      <td>1</td>\n",
       "      <td>STOP</td>\n",
       "      <td>2080.0</td>\n",
       "      <td>2024-02-01 05:27:53</td>\n",
       "      <td>2024-02-01 05:29:03</td>\n",
       "      <td>70</td>\n",
       "    </tr>\n",
       "    <tr>\n",
       "      <th>...</th>\n",
       "      <td>...</td>\n",
       "      <td>...</td>\n",
       "      <td>...</td>\n",
       "      <td>...</td>\n",
       "      <td>...</td>\n",
       "      <td>...</td>\n",
       "      <td>...</td>\n",
       "    </tr>\n",
       "    <tr>\n",
       "      <th>4986</th>\n",
       "      <td>10</td>\n",
       "      <td>4</td>\n",
       "      <td>STOP</td>\n",
       "      <td>331.0</td>\n",
       "      <td>2024-02-26 07:03:21</td>\n",
       "      <td>2024-02-26 07:06:16</td>\n",
       "      <td>175</td>\n",
       "    </tr>\n",
       "    <tr>\n",
       "      <th>4987</th>\n",
       "      <td>3</td>\n",
       "      <td>4</td>\n",
       "      <td>DRIVE</td>\n",
       "      <td>NaN</td>\n",
       "      <td>2024-02-24 09:15:02</td>\n",
       "      <td>2024-02-24 09:23:31</td>\n",
       "      <td>509</td>\n",
       "    </tr>\n",
       "    <tr>\n",
       "      <th>4988</th>\n",
       "      <td>2</td>\n",
       "      <td>4</td>\n",
       "      <td>STOP</td>\n",
       "      <td>1273.0</td>\n",
       "      <td>2024-02-24 09:26:31</td>\n",
       "      <td>2024-02-24 09:32:12</td>\n",
       "      <td>341</td>\n",
       "    </tr>\n",
       "    <tr>\n",
       "      <th>4989</th>\n",
       "      <td>1</td>\n",
       "      <td>4</td>\n",
       "      <td>DRIVE</td>\n",
       "      <td>NaN</td>\n",
       "      <td>2024-02-09 14:51:20</td>\n",
       "      <td>2024-02-09 14:55:42</td>\n",
       "      <td>262</td>\n",
       "    </tr>\n",
       "    <tr>\n",
       "      <th>4990</th>\n",
       "      <td>0</td>\n",
       "      <td>4</td>\n",
       "      <td>STOP</td>\n",
       "      <td>1312.0</td>\n",
       "      <td>2024-02-09 14:58:42</td>\n",
       "      <td>2024-02-09 15:01:56</td>\n",
       "      <td>194</td>\n",
       "    </tr>\n",
       "  </tbody>\n",
       "</table>\n",
       "<p>4991 rows × 7 columns</p>\n",
       "</div>"
      ],
      "text/plain": [
       "      segment_id  driver_id segment_type  order_id  segment_start_time  \\\n",
       "0           4973          1        DRIVE       NaN 2024-02-18 18:22:33   \n",
       "1           4972          1         STOP    1950.0 2024-02-18 18:31:46   \n",
       "2           4949          1         STOP       NaN 2024-02-01 05:07:48   \n",
       "3           4948          1        DRIVE       NaN 2024-02-01 05:15:22   \n",
       "4           4947          1         STOP    2080.0 2024-02-01 05:27:53   \n",
       "...          ...        ...          ...       ...                 ...   \n",
       "4986          10          4         STOP     331.0 2024-02-26 07:03:21   \n",
       "4987           3          4        DRIVE       NaN 2024-02-24 09:15:02   \n",
       "4988           2          4         STOP    1273.0 2024-02-24 09:26:31   \n",
       "4989           1          4        DRIVE       NaN 2024-02-09 14:51:20   \n",
       "4990           0          4         STOP    1312.0 2024-02-09 14:58:42   \n",
       "\n",
       "        segment_end_time  time_diff_in_seconds  \n",
       "0    2024-02-18 18:28:46                   373  \n",
       "1    2024-02-18 18:32:46                    60  \n",
       "2    2024-02-01 05:19:08                   680  \n",
       "3    2024-02-01 05:24:53                   571  \n",
       "4    2024-02-01 05:29:03                    70  \n",
       "...                  ...                   ...  \n",
       "4986 2024-02-26 07:06:16                   175  \n",
       "4987 2024-02-24 09:23:31                   509  \n",
       "4988 2024-02-24 09:32:12                   341  \n",
       "4989 2024-02-09 14:55:42                   262  \n",
       "4990 2024-02-09 15:01:56                   194  \n",
       "\n",
       "[4991 rows x 7 columns]"
      ]
     },
     "execution_count": 38,
     "metadata": {},
     "output_type": "execute_result"
    }
   ],
   "source": [
    "df"
   ]
  },
  {
   "cell_type": "code",
   "execution_count": 39,
   "metadata": {},
   "outputs": [],
   "source": [
    "# deleting cases when segment type is STOP and don't have order id\n",
    "df = df.drop(df[(df['segment_type'] == \"STOP\") & (pd.isna(df['order_id']))].index)"
   ]
  },
  {
   "cell_type": "code",
   "execution_count": 40,
   "metadata": {},
   "outputs": [
    {
     "data": {
      "text/html": [
       "<div>\n",
       "<style scoped>\n",
       "    .dataframe tbody tr th:only-of-type {\n",
       "        vertical-align: middle;\n",
       "    }\n",
       "\n",
       "    .dataframe tbody tr th {\n",
       "        vertical-align: top;\n",
       "    }\n",
       "\n",
       "    .dataframe thead th {\n",
       "        text-align: right;\n",
       "    }\n",
       "</style>\n",
       "<table border=\"1\" class=\"dataframe\">\n",
       "  <thead>\n",
       "    <tr style=\"text-align: right;\">\n",
       "      <th></th>\n",
       "      <th>segment_id</th>\n",
       "      <th>driver_id</th>\n",
       "      <th>segment_type</th>\n",
       "      <th>order_id</th>\n",
       "      <th>segment_start_time</th>\n",
       "      <th>segment_end_time</th>\n",
       "      <th>time_diff_in_seconds</th>\n",
       "    </tr>\n",
       "  </thead>\n",
       "  <tbody>\n",
       "    <tr>\n",
       "      <th>0</th>\n",
       "      <td>4973</td>\n",
       "      <td>1</td>\n",
       "      <td>DRIVE</td>\n",
       "      <td>NaN</td>\n",
       "      <td>2024-02-18 18:22:33</td>\n",
       "      <td>2024-02-18 18:28:46</td>\n",
       "      <td>373</td>\n",
       "    </tr>\n",
       "    <tr>\n",
       "      <th>1</th>\n",
       "      <td>4972</td>\n",
       "      <td>1</td>\n",
       "      <td>STOP</td>\n",
       "      <td>1950.0</td>\n",
       "      <td>2024-02-18 18:31:46</td>\n",
       "      <td>2024-02-18 18:32:46</td>\n",
       "      <td>60</td>\n",
       "    </tr>\n",
       "    <tr>\n",
       "      <th>3</th>\n",
       "      <td>4948</td>\n",
       "      <td>1</td>\n",
       "      <td>DRIVE</td>\n",
       "      <td>NaN</td>\n",
       "      <td>2024-02-01 05:15:22</td>\n",
       "      <td>2024-02-01 05:24:53</td>\n",
       "      <td>571</td>\n",
       "    </tr>\n",
       "    <tr>\n",
       "      <th>4</th>\n",
       "      <td>4947</td>\n",
       "      <td>1</td>\n",
       "      <td>STOP</td>\n",
       "      <td>2080.0</td>\n",
       "      <td>2024-02-01 05:27:53</td>\n",
       "      <td>2024-02-01 05:29:03</td>\n",
       "      <td>70</td>\n",
       "    </tr>\n",
       "    <tr>\n",
       "      <th>5</th>\n",
       "      <td>4928</td>\n",
       "      <td>1</td>\n",
       "      <td>DRIVE</td>\n",
       "      <td>NaN</td>\n",
       "      <td>2024-02-04 03:55:26</td>\n",
       "      <td>2024-02-04 04:02:30</td>\n",
       "      <td>424</td>\n",
       "    </tr>\n",
       "    <tr>\n",
       "      <th>...</th>\n",
       "      <td>...</td>\n",
       "      <td>...</td>\n",
       "      <td>...</td>\n",
       "      <td>...</td>\n",
       "      <td>...</td>\n",
       "      <td>...</td>\n",
       "      <td>...</td>\n",
       "    </tr>\n",
       "    <tr>\n",
       "      <th>4986</th>\n",
       "      <td>10</td>\n",
       "      <td>4</td>\n",
       "      <td>STOP</td>\n",
       "      <td>331.0</td>\n",
       "      <td>2024-02-26 07:03:21</td>\n",
       "      <td>2024-02-26 07:06:16</td>\n",
       "      <td>175</td>\n",
       "    </tr>\n",
       "    <tr>\n",
       "      <th>4987</th>\n",
       "      <td>3</td>\n",
       "      <td>4</td>\n",
       "      <td>DRIVE</td>\n",
       "      <td>NaN</td>\n",
       "      <td>2024-02-24 09:15:02</td>\n",
       "      <td>2024-02-24 09:23:31</td>\n",
       "      <td>509</td>\n",
       "    </tr>\n",
       "    <tr>\n",
       "      <th>4988</th>\n",
       "      <td>2</td>\n",
       "      <td>4</td>\n",
       "      <td>STOP</td>\n",
       "      <td>1273.0</td>\n",
       "      <td>2024-02-24 09:26:31</td>\n",
       "      <td>2024-02-24 09:32:12</td>\n",
       "      <td>341</td>\n",
       "    </tr>\n",
       "    <tr>\n",
       "      <th>4989</th>\n",
       "      <td>1</td>\n",
       "      <td>4</td>\n",
       "      <td>DRIVE</td>\n",
       "      <td>NaN</td>\n",
       "      <td>2024-02-09 14:51:20</td>\n",
       "      <td>2024-02-09 14:55:42</td>\n",
       "      <td>262</td>\n",
       "    </tr>\n",
       "    <tr>\n",
       "      <th>4990</th>\n",
       "      <td>0</td>\n",
       "      <td>4</td>\n",
       "      <td>STOP</td>\n",
       "      <td>1312.0</td>\n",
       "      <td>2024-02-09 14:58:42</td>\n",
       "      <td>2024-02-09 15:01:56</td>\n",
       "      <td>194</td>\n",
       "    </tr>\n",
       "  </tbody>\n",
       "</table>\n",
       "<p>4497 rows × 7 columns</p>\n",
       "</div>"
      ],
      "text/plain": [
       "      segment_id  driver_id segment_type  order_id  segment_start_time  \\\n",
       "0           4973          1        DRIVE       NaN 2024-02-18 18:22:33   \n",
       "1           4972          1         STOP    1950.0 2024-02-18 18:31:46   \n",
       "3           4948          1        DRIVE       NaN 2024-02-01 05:15:22   \n",
       "4           4947          1         STOP    2080.0 2024-02-01 05:27:53   \n",
       "5           4928          1        DRIVE       NaN 2024-02-04 03:55:26   \n",
       "...          ...        ...          ...       ...                 ...   \n",
       "4986          10          4         STOP     331.0 2024-02-26 07:03:21   \n",
       "4987           3          4        DRIVE       NaN 2024-02-24 09:15:02   \n",
       "4988           2          4         STOP    1273.0 2024-02-24 09:26:31   \n",
       "4989           1          4        DRIVE       NaN 2024-02-09 14:51:20   \n",
       "4990           0          4         STOP    1312.0 2024-02-09 14:58:42   \n",
       "\n",
       "        segment_end_time  time_diff_in_seconds  \n",
       "0    2024-02-18 18:28:46                   373  \n",
       "1    2024-02-18 18:32:46                    60  \n",
       "3    2024-02-01 05:24:53                   571  \n",
       "4    2024-02-01 05:29:03                    70  \n",
       "5    2024-02-04 04:02:30                   424  \n",
       "...                  ...                   ...  \n",
       "4986 2024-02-26 07:06:16                   175  \n",
       "4987 2024-02-24 09:23:31                   509  \n",
       "4988 2024-02-24 09:32:12                   341  \n",
       "4989 2024-02-09 14:55:42                   262  \n",
       "4990 2024-02-09 15:01:56                   194  \n",
       "\n",
       "[4497 rows x 7 columns]"
      ]
     },
     "execution_count": 40,
     "metadata": {},
     "output_type": "execute_result"
    }
   ],
   "source": [
    "df"
   ]
  },
  {
   "cell_type": "markdown",
   "metadata": {},
   "source": [
    "droping doplicates"
   ]
  },
  {
   "cell_type": "code",
   "execution_count": 41,
   "metadata": {},
   "outputs": [],
   "source": [
    "df = df.drop_duplicates(subset=[\"driver_id\", \"segment_type\", \"order_id\", \"segment_start_time\", \"segment_end_time\"], keep=\"last\")"
   ]
  },
  {
   "cell_type": "code",
   "execution_count": 42,
   "metadata": {},
   "outputs": [],
   "source": [
    "df.to_csv(\"test4.csv\")"
   ]
  },
  {
   "cell_type": "markdown",
   "metadata": {},
   "source": [
    "chceking if drive => stop sequence"
   ]
  },
  {
   "cell_type": "code",
   "execution_count": 47,
   "metadata": {},
   "outputs": [],
   "source": [
    "next_row_is_stop = df['segment_type'].shift(-1) == 'STOP'\n",
    "next_row_is_stop"
   ]
  },
  {
   "cell_type": "code",
   "execution_count": 49,
   "metadata": {},
   "outputs": [],
   "source": [
    "next_row_is_drive = df['segment_type'].shift(-1) == 'DRIVE'\n",
    "next_row_is_drive"
   ]
  },
  {
   "cell_type": "code",
   "execution_count": 52,
   "metadata": {},
   "outputs": [],
   "source": [
    "x = next_row_is_drive + next_row_is_stop"
   ]
  },
  {
   "cell_type": "code",
   "execution_count": 54,
   "metadata": {},
   "outputs": [],
   "source": [
    "false_indices = x.loc[~x].index"
   ]
  },
  {
   "cell_type": "code",
   "execution_count": 55,
   "metadata": {},
   "outputs": [
    {
     "data": {
      "text/plain": [
       "Index([4990], dtype='int64')"
      ]
     },
     "execution_count": 55,
     "metadata": {},
     "output_type": "execute_result"
    }
   ],
   "source": [
    "false_indices"
   ]
  },
  {
   "cell_type": "markdown",
   "metadata": {},
   "source": [
    "check if drive is earlier then stop"
   ]
  },
  {
   "cell_type": "markdown",
   "metadata": {},
   "source": [
    "check if deliver is in the same day?"
   ]
  },
  {
   "cell_type": "code",
   "execution_count": null,
   "metadata": {},
   "outputs": [],
   "source": []
  }
 ],
 "metadata": {
  "kernelspec": {
   "display_name": "base",
   "language": "python",
   "name": "python3"
  },
  "language_info": {
   "codemirror_mode": {
    "name": "ipython",
    "version": 3
   },
   "file_extension": ".py",
   "mimetype": "text/x-python",
   "name": "python",
   "nbconvert_exporter": "python",
   "pygments_lexer": "ipython3",
   "version": "3.11.5"
  }
 },
 "nbformat": 4,
 "nbformat_minor": 2
}
